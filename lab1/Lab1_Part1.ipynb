{
  "nbformat": 4,
  "nbformat_minor": 0,
  "metadata": {
    "colab": {
      "name": "Lab1_Part1.ipynb",
      "version": "0.3.2",
      "provenance": []
    },
    "kernelspec": {
      "display_name": "Python 2",
      "language": "python",
      "name": "python2"
    }
  },
  "cells": [
    {
      "metadata": {
        "id": "PYzS1YfTQ30r",
        "colab_type": "text"
      },
      "cell_type": "markdown",
      "source": [
        "# Lab 1: Intro to TensorFlow and Music Generation with RNNs\n",
        "# Part 1: Intro to TensorFlow"
      ]
    },
    {
      "metadata": {
        "id": "OP_GGkD4Q30x",
        "colab_type": "text"
      },
      "cell_type": "markdown",
      "source": [
        "TensorFlow is a software library extensively used in machine learning. Here we'll learn how computations are represented and how to define simple neural networks in TensorFlow."
      ]
    },
    {
      "metadata": {
        "id": "6yTBGf-vQ30z",
        "colab_type": "code",
        "colab": {}
      },
      "cell_type": "code",
      "source": [
        "import tensorflow as tf\n",
        "import numpy as np\n",
        "import matplotlib.pyplot as plt"
      ],
      "execution_count": 0,
      "outputs": []
    },
    {
      "metadata": {
        "id": "fDDx_pzxQ304",
        "colab_type": "text"
      },
      "cell_type": "markdown",
      "source": [
        "## 1.1 The Computation Graph\n",
        "\n",
        "TensorFlow is called TensorFlow because it handles the flow (node/mathematical operation) of Tensors (data). You can think of a Tensor as a multidimensional array. In TensorFlow, computations are represented as graphs. TensorFlow programs are usually structured into a phase that assembles a graph, and a phase that uses a session to execute operations in the graph. In TensorFlow we define the computational graph with Tensors and mathematical operations to create a system for machine learning and deep learning.\n",
        "\n",
        "We can think of a computation graph as a series of math operations that occur in some order. First let's look at a simple example:\n",
        "\n",
        "![alt text](img/add-graph.png \"Computation Graph\")\n"
      ]
    },
    {
      "metadata": {
        "id": "Pd9IFQrLQ306",
        "colab_type": "code",
        "outputId": "068d4dcf-a17d-4b00-be27-7984b36e52f5",
        "colab": {
          "base_uri": "https://localhost:8080/",
          "height": 35
        }
      },
      "cell_type": "code",
      "source": [
        "# create nodes in a graph\n",
        "a = tf.constant(15, name=\"a\")\n",
        "b = tf.constant(61, name=\"b\")\n",
        "\n",
        "# add them\n",
        "c = tf.add(a,b, name=\"c\")\n",
        "print(c)"
      ],
      "execution_count": 6,
      "outputs": [
        {
          "output_type": "stream",
          "text": [
            "Tensor(\"c_1:0\", shape=(), dtype=int32)\n"
          ],
          "name": "stdout"
        }
      ]
    },
    {
      "metadata": {
        "id": "LV-sHyrzQ30-",
        "colab_type": "text"
      },
      "cell_type": "markdown",
      "source": [
        "Notice that the output is still an abstract Tensor -- we've just created a computation graph consisting of operations. To actually get our result, we have to run a session to execute the graph. We'll do that next."
      ]
    },
    {
      "metadata": {
        "id": "DvaKAbNyQ30-",
        "colab_type": "text"
      },
      "cell_type": "markdown",
      "source": [
        "### 1.1.1 Building and Executing the Computation Graph\n",
        "\n",
        "Consider the following computation graph:\n",
        "\n",
        "![alt text](img/computation-graph.png \"Computation Graph\")\n",
        "\n",
        "This graph takes 2 inputs, `a, b` and computes an output `e`. Each node in the graph is an operation that takes some input, does some computation, and passes its output to another node.\n",
        "\n",
        "Let's first construct this computation graph in TensorFlow:"
      ]
    },
    {
      "metadata": {
        "scrolled": true,
        "id": "sxtoqKspQ31A",
        "colab_type": "code",
        "colab": {}
      },
      "cell_type": "code",
      "source": [
        "# define inputs \n",
        "a = tf.placeholder(tf.float32)\n",
        "b = tf.placeholder(tf.float32)\n",
        "\n",
        "'''TODO: Define the operation for c, d, e (use tf.add, tf.subtract, tf.multiply).'''\n",
        "c = tf.add(a,b)\n",
        "d = tf.subtract(b,1, name=\"d\")\n",
        "e = tf.multiply(c,d, name=\"e\")"
      ],
      "execution_count": 0,
      "outputs": []
    },
    {
      "metadata": {
        "id": "0JfXy8VyQ31E",
        "colab_type": "text"
      },
      "cell_type": "markdown",
      "source": [
        "TensorFlow uses tf.placeholder to handle inputs to the model. tf.placeholder lets you specify that some input will be coming in, of some shape and some type. Only when you run the computation graph do you actually provide the values of this input data. \n",
        "\n",
        "Now, we can define a session and run our computation graph:\n"
      ]
    },
    {
      "metadata": {
        "scrolled": false,
        "id": "yiU3Lf76Q31F",
        "colab_type": "code",
        "outputId": "1f895e2f-18e5-4f38-e18a-1cf31678fea5",
        "colab": {
          "base_uri": "https://localhost:8080/",
          "height": 35
        }
      },
      "cell_type": "code",
      "source": [
        "with tf.Session() as session:\n",
        "    a_data, b_data = 2.0, 4.0\n",
        "    # define inputs\n",
        "    feed_dict = {a: a_data, b: b_data}\n",
        "    # pass data in and run the computation graph in a session\n",
        "    output = session.run([e], feed_dict=feed_dict)\n",
        "    print(output) # 18"
      ],
      "execution_count": 24,
      "outputs": [
        {
          "output_type": "stream",
          "text": [
            "[18.0]\n"
          ],
          "name": "stdout"
        }
      ]
    },
    {
      "metadata": {
        "id": "ljmvHarjQ31I",
        "colab_type": "text"
      },
      "cell_type": "markdown",
      "source": [
        "Let's go through the execution above step-by-step. First, we used `feed_dict` to pass in the input data, and then used `session.run` to run the graph and grab the output from the operation in the graph. `e` is at the end of the graph, so we ran the entire graph and returned the result. "
      ]
    },
    {
      "metadata": {
        "id": "XmpVZJa2Q31K",
        "colab_type": "text"
      },
      "cell_type": "markdown",
      "source": [
        "## 1.2 Neural Networks in TensorFlow\n",
        "We can define neural networks in TensorFlow using computation graphs. Here is an example of a very simple neural network (just 1 perceptron):\n",
        "\n",
        "![alt text](img/computation-graph-2.png \"Computation Graph\")\n",
        "\n",
        "This graph takes an input, (x) and computes an output (out). It does so how we learned in lecture today: `out = sigmoid(W*x+b)`.\n",
        "\n",
        "We could build this computation graph in TensorFlow in the following way:"
      ]
    },
    {
      "metadata": {
        "id": "VgrffWWWQ31L",
        "colab_type": "code",
        "colab": {}
      },
      "cell_type": "code",
      "source": [
        "n_input_nodes = 2\n",
        "n_output_nodes = 1\n",
        "x = tf.placeholder(tf.float32, (None, n_input_nodes))\n",
        "W = tf.Variable(tf.ones((n_input_nodes, n_output_nodes)), dtype=tf.float32)\n",
        "b = tf.Variable(tf.zeros(n_output_nodes), dtype=tf.float32)\n",
        "\n",
        "'''TODO: Define the operation for z (use tf.matmul).'''\n",
        "z = tf.matmul(x,W) + b\n",
        "\n",
        "'''TODO: Define the operation for out (use tf.sigmoid).'''\n",
        "out = tf.sigmoid(z)"
      ],
      "execution_count": 0,
      "outputs": []
    },
    {
      "metadata": {
        "id": "bC5UrLj9Q31P",
        "colab_type": "text"
      },
      "cell_type": "markdown",
      "source": [
        "As with the previous example, we can use `session.run()` to execute this computation graph, and use a `feed_dict` to feed in our input:"
      ]
    },
    {
      "metadata": {
        "id": "iP7usLt3Q31S",
        "colab_type": "code",
        "outputId": "4c278aff-7aba-4d58-ca50-3e0241858c10",
        "colab": {
          "base_uri": "https://localhost:8080/",
          "height": 35
        }
      },
      "cell_type": "code",
      "source": [
        "test_input = [[0.25, 0.15]]\n",
        "graph=tf.Graph()\n",
        "with tf.Session() as session:\n",
        "    tf.global_variables_initializer().run(session=session)\n",
        "    ''' TODO: Define the input'''    \n",
        "    feed_dict = {x:test_input}\n",
        "    ''' TODO: Run the session and get the output of the perceptron!'''\n",
        "    output = session.run(out, feed_dict=feed_dict)\n",
        "    \n",
        "    print(output[0]) # This should output 0.59868765. \n"
      ],
      "execution_count": 30,
      "outputs": [
        {
          "output_type": "stream",
          "text": [
            "[0.59868765]\n"
          ],
          "name": "stdout"
        }
      ]
    },
    {
      "metadata": {
        "collapsed": true,
        "id": "_H2dWQemQ31X",
        "colab_type": "text"
      },
      "cell_type": "markdown",
      "source": [
        "## 1.3 Eager execution\n",
        "\n",
        "The 6.S191 team is **Eager** to show you one of the coolest recent developments in TensorFlow: Eager execution. Eager is an experimental interface to TensorFlow that provides an imperative programming style. When you enable Eager execution, TensorFlow operations execute immediately as they're called from Python. That means you do not execute a pre-constructed graph with `Session.run()`. This allows for fast debugging and a more intuitive way to get started with TensorFlow."
      ]
    },
    {
      "metadata": {
        "id": "Qoi-DHiZQ31Z",
        "colab_type": "text"
      },
      "cell_type": "markdown",
      "source": [
        "First, we must enable Eager execution. When we do this, operations will execute and return their values immediately. Some things to note:\n",
        "\n",
        "- We will need to restart the Python kernel since we have already used TensorFlow in graph mode. \n",
        "- We enable eager at program startup using: `tfe.enable_eager_execution()`.\n",
        "- Once we enable Eager with `tfe.enable_eager_execution()`, it cannot be turned off. To get back to graph mode, start a new Python session."
      ]
    },
    {
      "metadata": {
        "id": "5zVU7Pb0Q31a",
        "colab_type": "text"
      },
      "cell_type": "markdown",
      "source": [
        "### 1.3.1 How is Eager Different?\n",
        "Before we get started with Eager, let's see what happens when we define a simple operation in graph mode:"
      ]
    },
    {
      "metadata": {
        "scrolled": true,
        "id": "bOuIeoahQ31c",
        "colab_type": "code",
        "colab": {
          "base_uri": "https://localhost:8080/",
          "height": 35
        },
        "outputId": "60ad94f0-7842-4409-9495-c59d3098280b"
      },
      "cell_type": "code",
      "source": [
        "print(tf.add(1, 2))"
      ],
      "execution_count": 31,
      "outputs": [
        {
          "output_type": "stream",
          "text": [
            "Tensor(\"Add_7:0\", shape=(), dtype=int32)\n"
          ],
          "name": "stdout"
        }
      ]
    },
    {
      "metadata": {
        "id": "rBSLSEqsQ31g",
        "colab_type": "text"
      },
      "cell_type": "markdown",
      "source": [
        "This tells us that we're just building a computation graph with the above operation, and not actually executing anything. Let's see how Eager is different. We restart the Python kernel and start Eager execution. \n",
        "**This command will cause your kernel to die but this is okay since we are restarting.**"
      ]
    },
    {
      "metadata": {
        "id": "ay-BOxo0Q31i",
        "colab_type": "code",
        "colab": {}
      },
      "cell_type": "code",
      "source": [
        "import os\n",
        "os._exit(00)"
      ],
      "execution_count": 0,
      "outputs": []
    },
    {
      "metadata": {
        "scrolled": true,
        "id": "EH_dFdFDQ31m",
        "colab_type": "code",
        "colab": {}
      },
      "cell_type": "code",
      "source": [
        "import tensorflow.contrib.eager as tfe\n",
        "tfe.enable_eager_execution()\n",
        "import tensorflow as tf"
      ],
      "execution_count": 0,
      "outputs": []
    },
    {
      "metadata": {
        "id": "KA6nKRViQ31p",
        "colab_type": "text"
      },
      "cell_type": "markdown",
      "source": [
        "Let's run the same operation as before -- adding 1 and 2 -- in Eager mode:"
      ]
    },
    {
      "metadata": {
        "id": "b-YvY3K-Q31s",
        "colab_type": "code",
        "colab": {
          "base_uri": "https://localhost:8080/",
          "height": 35
        },
        "outputId": "34d5fe48-8fe7-40e6-b4f4-2adadd004ad9"
      },
      "cell_type": "code",
      "source": [
        "print(tf.add(1, 2))"
      ],
      "execution_count": 3,
      "outputs": [
        {
          "output_type": "stream",
          "text": [
            "tf.Tensor(3, shape=(), dtype=int32)\n"
          ],
          "name": "stdout"
        }
      ]
    },
    {
      "metadata": {
        "id": "Hxc7aDZSQ31v",
        "colab_type": "text"
      },
      "cell_type": "markdown",
      "source": [
        "Cool! We just defined and executed an operation in TensorFlow immediately as it was called."
      ]
    },
    {
      "metadata": {
        "id": "daMOKCMuQ31w",
        "colab_type": "text"
      },
      "cell_type": "markdown",
      "source": [
        "### 1.3.2 Automatic Differentiation\n",
        "Automatic differentiation is very useful when implementing many machine learning algorithms such as backpropagation for training neural networks. For this purpose, TensorFlow Eager execution provides an [autograd](https://github.com/HIPS/autograd)\tstyle API for automatic differentiation."
      ]
    },
    {
      "metadata": {
        "id": "4mQlZ7ElQ31y",
        "colab_type": "code",
        "colab": {
          "base_uri": "https://localhost:8080/",
          "height": 70
        },
        "outputId": "802d01d1-a5c3-418a-afd1-68c0693b73ac"
      },
      "cell_type": "code",
      "source": [
        "def f(x):\n",
        "    # f(x) = x^2 + 3\n",
        "    return tf.multiply(x, x) + 3\n",
        "\n",
        "print( \"f(4) = %.2f\" % f(4.) )\n",
        "\n",
        "# First order derivative\n",
        "df = tfe.gradients_function(f) # tfe == eager mode\n",
        "print( \"df(4) = %.2f\" % df(4.)[0] )\n",
        "\n",
        "# Second order derivative\n",
        "'''TODO: fill in the expression for the second order derivative using Eager mode gradients'''\n",
        "d2f = tfe.gradients_function(df)\n",
        "print( \"d2f(4) = %.2f\" % d2f(4.)[0] )"
      ],
      "execution_count": 4,
      "outputs": [
        {
          "output_type": "stream",
          "text": [
            "f(4) = 19.00\n",
            "df(4) = 8.00\n",
            "d2f(4) = 2.00\n"
          ],
          "name": "stdout"
        }
      ]
    },
    {
      "metadata": {
        "id": "NjRbQ6MDQ312",
        "colab_type": "text"
      },
      "cell_type": "markdown",
      "source": [
        "### 1.3.3 Dynamic Models\n",
        "\n",
        "Dynamic models can be built with Python flow control. Here's an example of the [Collatz conjecture](https://en.wikipedia.org/wiki/Collatz_conjecture) using TensorFlow’s arithmetic operations. Such dynamic behavior is not possible in standard TensorFlow (up to v1.4):"
      ]
    },
    {
      "metadata": {
        "id": "HODo89plQ313",
        "colab_type": "code",
        "colab": {
          "base_uri": "https://localhost:8080/",
          "height": 177
        },
        "outputId": "69abb35e-5087-4935-f33d-6293614e7939"
      },
      "cell_type": "code",
      "source": [
        "a = tf.constant(12)\n",
        "counter = 0\n",
        "while not tf.equal(a, 1):\n",
        "  if tf.equal(a % 2, 0):\n",
        "    a = a / 2\n",
        "  else:\n",
        "    a = 3 * a + 1\n",
        "  print(a)"
      ],
      "execution_count": 5,
      "outputs": [
        {
          "output_type": "stream",
          "text": [
            "tf.Tensor(6, shape=(), dtype=int32)\n",
            "tf.Tensor(3, shape=(), dtype=int32)\n",
            "tf.Tensor(10, shape=(), dtype=int32)\n",
            "tf.Tensor(5, shape=(), dtype=int32)\n",
            "tf.Tensor(16, shape=(), dtype=int32)\n",
            "tf.Tensor(8, shape=(), dtype=int32)\n",
            "tf.Tensor(4, shape=(), dtype=int32)\n",
            "tf.Tensor(2, shape=(), dtype=int32)\n",
            "tf.Tensor(1, shape=(), dtype=int32)\n"
          ],
          "name": "stdout"
        }
      ]
    }
  ]
}